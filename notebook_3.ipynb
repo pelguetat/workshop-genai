{
  "nbformat": 4,
  "nbformat_minor": 0,
  "metadata": {
    "colab": {
      "provenance": []
    },
    "kernelspec": {
      "name": "python3",
      "display_name": "Python 3"
    },
    "language_info": {
      "name": "python"
    }
  },
  "cells": [
    {
      "cell_type": "markdown",
      "source": [
        "# Título: Colaboración de Agentes para la creación de Artículos de prensa\n",
        "\n",
        "## Introducción:\n",
        "Eres un(a) profesional que trabaja para la BBC, cuya función es crear artículos de prensa. Te encanta tu trabajo pero a veces te falta inspiración para comenzar a bosquejar un nuevo artículo.\n",
        "\n",
        "Un día vas tomarte un café con Malcolm Gladwell, le compartes tus pensamientos, a lo que él responde que existen muchas herramientas de Inteligencia Artifical que podrían ser ayuda para explorar ideas y acelerar el proceso creativo. A partir de esto te inscribes a un Workshop de IA Generativa para aprender sobre IA y sales con muchos conocimientos y ganas de utilizar AI en tu próximo proyecto.\n",
        "\n",
        "## Objetivo:\n",
        "Crear una solución de IA Generativa, que a partir de un prompt tipo texto, genere un bosquejo de tu próximo artículo, usando múltiples agentes (periodista y editor) que discutirán al respecto, generando varias versiones, hasta llegar a una versión final.\n",
        "\n",
        "## Instrucciones:\n",
        "Sigue los pasos detallados en este notebook para configurar el entorno, autenticarte en Google Cloud Platform, Configurar y coordina Agentes, Tareas, y Crews (tripulaciones) para crear artículos periodísticos."
      ],
      "metadata": {
        "id": "Y4QDVnbBM9cO"
      }
    },
    {
      "cell_type": "markdown",
      "source": [
        "### Instalamos dependencias"
      ],
      "metadata": {
        "id": "eDpwYAGQNAWG"
      }
    },
    {
      "cell_type": "code",
      "source": [
        "# Instalamos la librería de vertex para python.\n",
        "!pip install google-api-python-client\n",
        "\n",
        "# Instalamos paquetes para conectarnos a los servicios de Google\n",
        "!pip install google-auth\n",
        "!pip install google-auth-oauthlib\n",
        "\n",
        "# Instalamos crewAI, librería que nos ayuda a crear y gestionar Agentes\n",
        "!pip install crewai\n",
        "# Tools son mecanismos que pueden ser llamados por los agentes como una API, otros modelos de AI, etc.\n",
        "!pip install 'crewai[tools]'\n",
        "\n",
        "# Instalamos Vertex AI como proveedor del modelo que vamos a utilizar (tambien se puede usar Langchain para proveer otros modelos como OpenAI, Llama, etc.)\n",
        "!pip install vertexai\n",
        "\n",
        "# Crew AI admite varias formas de indicarle qué modelo queremos utilizar. Por el momento, la forma más fácil de pasarle un modelo a Crew AI es utilizando las clases estandarizadas de Langchain.\n",
        "!pip install langchain-google-vertexai\n"
      ],
      "metadata": {
        "id": "Sd5L03TXNEbP"
      },
      "execution_count": null,
      "outputs": []
    },
    {
      "cell_type": "markdown",
      "source": [
        "### Autenticación Colab - GCP\n",
        "Usamos la autenticación de Google Colab para conectarnos a GCP. Si no se está usando Colab, solo Python u otro runtime, se debe autenticar GCP a través de una cuenta de servicio.\n"
      ],
      "metadata": {
        "id": "XT9JUTbyNHTz"
      }
    },
    {
      "cell_type": "code",
      "source": [
        "import sys\n",
        "if \"google.colab\" in sys.modules:\n",
        "    from google.colab import auth\n",
        "    auth.authenticate_user()"
      ],
      "metadata": {
        "id": "HjV5hf-MNI0q"
      },
      "execution_count": 2,
      "outputs": []
    },
    {
      "cell_type": "code",
      "source": [
        "# Configuramos los parametros de la API para que funcione con nuestro proyecto de Google Cloud\n",
        "id_proyecto = \"prj-uc-genai-labs\"\n",
        "region = \"us-central1\"\n",
        "\n",
        "from langchain_google_vertexai import VertexAI\n",
        "from langchain.embeddings import VertexAIEmbeddings\n",
        "\n",
        "# Utilizando el paquete de langchain_google_genai solo podemos utilizar Gemini, pero con el paquete de vertexai tenemos acceso a todo el resto de modelos que GCP provee\n",
        "# Incluyendo modelos open source desplegados a través de Model Garden\n",
        "modeloGemini = VertexAI(model_name=\"gemini-1.5-pro-preview-0409\", project=id_proyecto, location=region)\n"
      ],
      "metadata": {
        "id": "UwwgtXqF8eox"
      },
      "execution_count": 3,
      "outputs": []
    },
    {
      "cell_type": "markdown",
      "source": [
        "Una vez creada la instancia con la que los agentes llamarán al modelo de IA, debemos configurar los agentes necesarios para cada uno de nuestros pasos a definir. En este caso los pasos son:\n",
        "1. A partir del prompt, se debe generar un bosquejo referencial del artículo (un periodista)\n",
        "2. Una vez generado un primer bosquejo, este debe ser revisado con alguien con experiencia para dar el visto bueno (un editor)\n",
        "3. Después de algunas iteraciones entre ambos agentes, se recibirá una versión revisada del bosquejo\n",
        "\n",
        "Ahora, debemos configurar agentes que tomen distintos roles y ejecuten distintas acciones en esta cadena de producción"
      ],
      "metadata": {
        "id": "FzDwhB8aNOlz"
      }
    },
    {
      "cell_type": "code",
      "source": [
        "# Importamos Crew AI como librería que nos ayudará a crear y gestionar a los agentes\n",
        "from crewai import Agent\n",
        "\n",
        "# Creating a senior researcher agent with memory and verbose mode\n",
        "periodista = Agent(\n",
        "  role='Periodista',                          # Rol del agente\n",
        "  goal='Generar un artículo sobre {topic}',   # Objetivo del rol\n",
        "  verbose=True,                               # Define si se requiere cierto nivel de detalle para compartir información entre agentes, o simplemente dar el pase.\n",
        "  memory=True,                                # Se utiliza para mantener memoria de ejecuciones anteriores\n",
        "  llm=modeloGemini,                           # El modelo a utilizar\n",
        "  backstory=(                                 # Describe la manera de actuar del agente mientras resuelve el objetivo\n",
        "    \"Eres una persona creativa y profesional\"\n",
        "    \"llevas años trabajando haciendo artículos para los diarios más grandes del mundo,\"\n",
        "    \"se te reconoce por tu estilo serio y pragmático\"\n",
        "  ),\n",
        "  embedder=VertexAIEmbeddings,                # El embeding a utilizar para la memoria del agente\n",
        "  allow_delegation=False,                     # Define la capacidad de un agente a delegar una tarea a otro agente en caso de que la tarea asignada no sea propia de su rol\n",
        "  max_iter=6)                                 # Número de iteraciones máximas del agente para cada ejecución\n",
        "\n",
        "editor = Agent(\n",
        "  role='Editor',\n",
        "  goal='Debe revisar y comentar puntos positivos y negativos de artículos periodisticos, cosas que haya que incluir o remover o cambiar. En este caso la tematica trata de {topic}',\n",
        "  verbose=True,\n",
        "  memory=True,\n",
        "  llm=modeloGemini,\n",
        "  backstory=(\n",
        "    \"Tienes mucha experiencia en el rubro periodistico\"\n",
        "    \"y en tu cargo actual eres la persona que decide qué cosas saldrán al mercado y cuales no\"\n",
        "    \"principalmente debido al nivel de autoridad que haz conseguido durante tu carrera\"\n",
        "  ),\n",
        "  embedder=VertexAIEmbeddings,\n",
        "  allow_delegation=False,\n",
        "  max_iter=5\n",
        ")"
      ],
      "metadata": {
        "id": "o9xzrzcSNPYN"
      },
      "execution_count": 4,
      "outputs": []
    },
    {
      "cell_type": "markdown",
      "source": [
        "Una vez definidos los agentes debemos definir las tareas que estos estarán resolviendo"
      ],
      "metadata": {
        "id": "3BdKoM-aNR99"
      }
    },
    {
      "cell_type": "code",
      "source": [
        "# Importamos la clase Task, que nos ayudará a crear las diferentes tareas, de una forma entendible para la IA\n",
        "from crewai import Task\n",
        "\n",
        "tarea_bosquejo = Task(\n",
        "  description=(                                            # Describe la tarea\n",
        "    \"Crea el mejor posible con el tema de {topic}.\"\n",
        "    \"No olvides incluír partes drámaticas o amorosas, que al publico le gustan\"\n",
        "    \"Comienza con una breve introducción, y luego ve describiendo en orden temporal de los sucesos.\"\n",
        "    \"Firma el articulo indicando tu nombre (inventa nombre y apellido) y la {fecha}.\"\n",
        "  ),\n",
        "  expected_output='Un borrador de artículo de periódico.', # Define el objeto que se espera como resultado\n",
        "  agent=periodista,                                        # Asigna un Agente/Rol a la tarea\n",
        ")\n",
        "\n",
        "tarea_editor = Task(\n",
        "  description=(\n",
        "    \"Debes revisar un artículo con la temática de {topic}.\"\n",
        "    \"Eres el encargado de dar el visto bueno, o de rechazar las obras de los periodistas según tu amplia experiencia\"\n",
        "    \"tomando en cuenta de que el articulo ser interesante para el publico general, siempre incluyendo algún toque de drama, amor, polémica o hechos impresionantes.\"\n",
        "  ),\n",
        "  expected_output='La versión final del artículo',\n",
        "  agent=editor,\n",
        ")"
      ],
      "metadata": {
        "id": "pYUkmzt6NTqe"
      },
      "execution_count": 5,
      "outputs": []
    },
    {
      "cell_type": "markdown",
      "source": [
        "Tenemos a los agentes y las tareas definidas. Ahora debemos juntarlos en una Crew (o Tripulación) y coordinarlos para que resuelvan nuestro objetivo final."
      ],
      "metadata": {
        "id": "bEW14FHONVUv"
      }
    },
    {
      "cell_type": "code",
      "source": [
        "from crewai import Crew, Process # Una Crew es una agrupación de agentes\n",
        "from datetime import datetime\n",
        "tripulacion = Crew(\n",
        "  agents=[periodista, editor],\n",
        "  tasks=[tarea_bosquejo, tarea_editor],\n",
        "  process=Process.sequential,  # Optional: forma en que se coordinarán los agentes\n",
        "  max_rpm=20,                  # Limite de requests por minuto\n",
        ")\n",
        "\n",
        "fecha = datetime.today()       # Creamos una fecha para el artículo\n",
        "\n",
        "# Ejecutamos el flujo, mencionando las variables que definimos cuando creamos los agentes y sus tareas\n",
        "resultado = tripulacion.kickoff(inputs={f'topic': 'La vida de la Reina Isabel', 'fecha': fecha}) # Acá podemos hacer correr el proceso e indicar la temática de la pelicula\n",
        "\n",
        "# Imprimimos el resultado en la consola!\n",
        "print(resultado)"
      ],
      "metadata": {
        "id": "6J2_4q62NYO_"
      },
      "execution_count": null,
      "outputs": []
    },
    {
      "cell_type": "code",
      "source": [],
      "metadata": {
        "id": "9q3aENbULbMg"
      },
      "execution_count": 6,
      "outputs": []
    }
  ]
}